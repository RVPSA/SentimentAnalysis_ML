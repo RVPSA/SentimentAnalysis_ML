{
 "cells": [
  {
   "cell_type": "code",
   "execution_count": 3,
   "id": "377dfa04-66cb-4536-9c6b-9a139bb1ea8d",
   "metadata": {},
   "outputs": [],
   "source": [
    "import numpy as np\n",
    "import pandas as pd\n",
    "import matplotlib.pyplot as plt\n",
    "import re\n",
    "import string\n",
    "import pickle"
   ]
  },
  {
   "cell_type": "code",
   "execution_count": 4,
   "id": "d1d05d6a-f753-4c71-982e-942b28ade769",
   "metadata": {},
   "outputs": [],
   "source": [
    "#Read file that contain stop words\n",
    "with open('../static/model/corpora/stopwords/english','r') as file:\n",
    "    sw = file.read().splitlines()"
   ]
  },
  {
   "cell_type": "code",
   "execution_count": 5,
   "id": "24caf0b7-7caf-42e8-9425-33fbb6a0f808",
   "metadata": {},
   "outputs": [],
   "source": [
    "#For stemming\n",
    "from nltk.stem import PorterStemmer\n",
    "ps = PorterStemmer()"
   ]
  },
  {
   "cell_type": "code",
   "execution_count": 6,
   "id": "d5ab92ce-a369-4665-8003-b3a0c561a142",
   "metadata": {},
   "outputs": [],
   "source": [
    "#Remove punctuations\n",
    "def remove_punctuations(text):\n",
    "    for punctuation in string.punctuation:\n",
    "        text = text.replace(punctuation,'')\n",
    "    return text"
   ]
  },
  {
   "cell_type": "code",
   "execution_count": 14,
   "id": "4d0b7a8d-5df6-4ccc-90f9-68859b5a7fab",
   "metadata": {},
   "outputs": [],
   "source": [
    "#For data preprocessing\n",
    "def dataPreprocessing(text):\n",
    "    data = pd.DataFrame([text],columns = ['tweet'])\n",
    "    data['tweet'] = data['tweet'].apply(lambda x:' '.join(x.lower() for x in x.split()))\n",
    "    data['tweet'] = data['tweet'].apply(lambda x: ' '.join(re.sub(r'^https?:\\/\\/.*[\\r\\n]*','',x,flags=re.MULTILINE) for x in x.split()))\n",
    "    data['tweet'] = data['tweet'].apply(remove_punctuations)\n",
    "    data['tweet'] = data['tweet'].str.replace('\\d+','',regex=True)\n",
    "    data['tweet'] = data['tweet'].apply(lambda x: ' '.join(x for x in x.split() if x not in sw))\n",
    "    data['tweet'] = data['tweet'].apply(lambda x: ' '.join(ps.stem(x) for x in x.split()))\n",
    "    return data['tweet']"
   ]
  },
  {
   "cell_type": "code",
   "execution_count": 8,
   "id": "03ddc245-c9c0-4c4d-aa23-ca1bd8443418",
   "metadata": {},
   "outputs": [],
   "source": [
    "vocab = pd.read_csv('../static/model/vocabulary.txt',header=None)\n",
    "tokens = vocab[0].tolist()"
   ]
  },
  {
   "cell_type": "code",
   "execution_count": 9,
   "id": "99548612-9907-4996-879f-b45170245805",
   "metadata": {},
   "outputs": [],
   "source": [
    "def vectorizer(ds,vocabulary):\n",
    "    vectorized_list = []\n",
    "\n",
    "    for sentence in ds:\n",
    "        sentence_list = np.zeros(len(vocabulary))\n",
    "\n",
    "        for i in range(len(vocabulary)):\n",
    "            if vocabulary[i] in sentence.split():\n",
    "                sentence_list[i] = 1\n",
    "        vectorized_list.append(sentence_list)\n",
    "\n",
    "    vectorized_list_new = np.asarray(vectorized_list,dtype=np.float32)\n",
    "    return vectorized_list_new"
   ]
  },
  {
   "cell_type": "code",
   "execution_count": 11,
   "id": "ebc77b50-cb19-4f9f-bd8a-5865d1642893",
   "metadata": {},
   "outputs": [],
   "source": [
    "with open('../static/model/model.pickle', 'rb') as f:\n",
    "    model = pickle.load(f)"
   ]
  },
  {
   "cell_type": "code",
   "execution_count": 20,
   "id": "4c8e7738-1ab9-41cd-b6af-884b23c8c3d6",
   "metadata": {},
   "outputs": [],
   "source": [
    "txt = 'Good product!, I Love it.'\n",
    "preProcessed_txt = dataPreprocessing(txt)\n",
    "vectorized_txt = vectorizer(preProcessed_txt,tokens)\n",
    "prediction = model.predict(vectorized_txt)"
   ]
  },
  {
   "cell_type": "code",
   "execution_count": 21,
   "id": "c57a562b-261f-475f-951c-dc25d7e75639",
   "metadata": {},
   "outputs": [
    {
     "name": "stdout",
     "output_type": "stream",
     "text": [
      "Positive\n"
     ]
    }
   ],
   "source": [
    "if prediction == 1:\n",
    "    print('Negative')\n",
    "else:\n",
    "    print('Positive')"
   ]
  },
  {
   "cell_type": "code",
   "execution_count": null,
   "id": "efb8be33-c7b3-43e2-ab19-2b4a485cb641",
   "metadata": {},
   "outputs": [],
   "source": []
  }
 ],
 "metadata": {
  "kernelspec": {
   "display_name": "Python 3 (ipykernel)",
   "language": "python",
   "name": "python3"
  },
  "language_info": {
   "codemirror_mode": {
    "name": "ipython",
    "version": 3
   },
   "file_extension": ".py",
   "mimetype": "text/x-python",
   "name": "python",
   "nbconvert_exporter": "python",
   "pygments_lexer": "ipython3",
   "version": "3.11.4"
  }
 },
 "nbformat": 4,
 "nbformat_minor": 5
}
